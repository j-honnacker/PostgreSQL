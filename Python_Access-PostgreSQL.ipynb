{
 "cells": [
  {
   "cell_type": "markdown",
   "metadata": {},
   "source": [
    "# Access PostgreSQL with Python"
   ]
  },
  {
   "cell_type": "markdown",
   "metadata": {},
   "source": [
    "## Table of Contents\n",
    "- [Prep](#prep)\n",
    " - [Import modules](#import)\n",
    " - [Create a CONNECTION: conn](#CreateConnection)\n",
    " - [Create a CURSOR: cur](#CreateCursor)\n",
    "- [Actions](#actions)\n",
    " - [Create a DATABASE: db_test](#CreateDB)\n",
    " - [Create a TABLE: tbl_test](#CreateTbl)\n",
    " - [Fetch data from tables](#fetch)\n",
    "- [Close](#close)"
   ]
  },
  {
   "cell_type": "markdown",
   "metadata": {},
   "source": [
    "<a id='prep'></a>\n",
    "## Prep"
   ]
  },
  {
   "cell_type": "markdown",
   "metadata": {},
   "source": [
    "<a id='import'></a>\n",
    "### Import modules"
   ]
  },
  {
   "cell_type": "code",
   "execution_count": 76,
   "metadata": {},
   "outputs": [],
   "source": [
    "import psycopg2"
   ]
  },
  {
   "cell_type": "markdown",
   "metadata": {},
   "source": [
    "<a id='CreateConnection'></a>\n",
    "### Create a CONNECTION: conn"
   ]
  },
  {
   "cell_type": "code",
   "execution_count": 77,
   "metadata": {},
   "outputs": [],
   "source": [
    "user_credentials = \" user=postgres password=passw\""
   ]
  },
  {
   "cell_type": "code",
   "execution_count": 78,
   "metadata": {},
   "outputs": [],
   "source": [
    "# Create a CONNECTION to the Psql database\n",
    "conn = psycopg2.connect(\"host=localhost\" + user_credentials)"
   ]
  },
  {
   "cell_type": "code",
   "execution_count": 79,
   "metadata": {},
   "outputs": [],
   "source": [
    "# Ensure each action is committed without having to use 'conn.commit()'\n",
    "conn.set_session(autocommit=True)"
   ]
  },
  {
   "cell_type": "markdown",
   "metadata": {},
   "source": [
    "<a id='CreateCursor'></a>\n",
    "### Create a CURSOR: cur"
   ]
  },
  {
   "cell_type": "code",
   "execution_count": 80,
   "metadata": {},
   "outputs": [],
   "source": [
    "# Create a CURSOR that is used for queries\n",
    "cur = conn.cursor()"
   ]
  },
  {
   "cell_type": "markdown",
   "metadata": {},
   "source": [
    "<a id='actions'></a>\n",
    "## Actions"
   ]
  },
  {
   "cell_type": "markdown",
   "metadata": {},
   "source": [
    "<a id='CreateDB'></a>\n",
    "### Create a DATABASE: db_test"
   ]
  },
  {
   "cell_type": "code",
   "execution_count": 81,
   "metadata": {
    "scrolled": true
   },
   "outputs": [
    {
     "name": "stdout",
     "output_type": "stream",
     "text": [
      "Error: Could not create database 'db_test'.\n",
      "database \"db_test\" already exists\n",
      "\n"
     ]
    }
   ],
   "source": [
    "# Create database 'db_test'\n",
    "try:\n",
    "    cur.execute(\"CREATE DATABASE db_test;\")\n",
    "except psycopg2.Error as error:\n",
    "    print(\"Error: Could not create database 'db_test'.\")\n",
    "    print(error)\n"
   ]
  },
  {
   "cell_type": "code",
   "execution_count": 82,
   "metadata": {},
   "outputs": [],
   "source": [
    "# Connect to database 'db_test'\n",
    "conn = psycopg2.connect(\"host=localhost dbname=db_test\" + user_credentials)\n",
    "\n",
    "# Ensure each action is automatically committed\n",
    "conn.set_session(autocommit=True)\n",
    "\n",
    "# Set cursor to database 'db_test'\n",
    "cur = conn.cursor()"
   ]
  },
  {
   "cell_type": "markdown",
   "metadata": {},
   "source": [
    "<a id='CreateTbl'></a>\n",
    "### Create a TABLE: tbl_test"
   ]
  },
  {
   "cell_type": "code",
   "execution_count": 83,
   "metadata": {},
   "outputs": [],
   "source": [
    "# Create table 'tbl_test'\n",
    "exe_CreateTable = \"\"\"\n",
    "\n",
    "    DROP TABLE IF EXISTS\n",
    "        tbl_test\n",
    "    ;\n",
    "    \n",
    "    CREATE TABLE\n",
    "        tbl_test\n",
    "        (\n",
    "            id   BIGSERIAL NOT NULL PRIMARY KEY,\n",
    "            name VARCHAR(50)\n",
    "        )\n",
    "    ;\n",
    "    \n",
    "    \"\"\"\n",
    "\n",
    "cur.execute( exe_CreateTable )"
   ]
  },
  {
   "cell_type": "code",
   "execution_count": 84,
   "metadata": {},
   "outputs": [],
   "source": [
    "# Insert rows into table 'tbl_test'\n",
    "exe_InsertInto = \"\"\"\n",
    "    INSERT INTO\n",
    "        tbl_test\n",
    "            ( id, name   )\n",
    "        VALUES\n",
    "            ( 10, 'Nico' ),\n",
    "            ( 20, 'Mo'   )\n",
    "    ;\n",
    "    \"\"\"\n",
    "\n",
    "cur.execute( exe_InsertInto )"
   ]
  },
  {
   "cell_type": "markdown",
   "metadata": {},
   "source": [
    "<a id='fetch'></a>\n",
    "### Fetch data from tables"
   ]
  },
  {
   "cell_type": "code",
   "execution_count": 85,
   "metadata": {
    "scrolled": true
   },
   "outputs": [
    {
     "name": "stdout",
     "output_type": "stream",
     "text": [
      "[(10, 'Nico'), (20, 'Mo')]\n"
     ]
    }
   ],
   "source": [
    "# fetch all rows\n",
    "cur.execute(\"SELECT * FROM tbl_test;\")\n",
    "\n",
    "print(cur.fetchall())"
   ]
  },
  {
   "cell_type": "code",
   "execution_count": 86,
   "metadata": {},
   "outputs": [
    {
     "name": "stdout",
     "output_type": "stream",
     "text": [
      "(10, 'Nico')\n",
      "(20, 'Mo')\n"
     ]
    }
   ],
   "source": [
    "# fetch rows one-by-one - 1/2\n",
    "cur.execute(\"SELECT * FROM tbl_test;\")\n",
    "\n",
    "rows = cur.fetchall()\n",
    "for row in rows:\n",
    "    print(row)"
   ]
  },
  {
   "cell_type": "code",
   "execution_count": 87,
   "metadata": {},
   "outputs": [
    {
     "name": "stdout",
     "output_type": "stream",
     "text": [
      "(10, 'Nico')\n",
      "(20, 'Mo')\n"
     ]
    }
   ],
   "source": [
    "# fetch rows one-by-one - 2/2\n",
    "cur.execute(\"SELECT * FROM tbl_test;\")\n",
    "\n",
    "row = cur.fetchone()\n",
    "while row:\n",
    "    print(row)\n",
    "    row = cur.fetchone()"
   ]
  },
  {
   "cell_type": "markdown",
   "metadata": {},
   "source": [
    "<a id='close'></a>\n",
    "### Close"
   ]
  },
  {
   "cell_type": "code",
   "execution_count": 88,
   "metadata": {},
   "outputs": [],
   "source": [
    "cur.close()\n",
    "conn.close()"
   ]
  }
 ],
 "metadata": {
  "kernelspec": {
   "display_name": "Python 3",
   "language": "python",
   "name": "python3"
  },
  "language_info": {
   "codemirror_mode": {
    "name": "ipython",
    "version": 3
   },
   "file_extension": ".py",
   "mimetype": "text/x-python",
   "name": "python",
   "nbconvert_exporter": "python",
   "pygments_lexer": "ipython3",
   "version": "3.7.3"
  }
 },
 "nbformat": 4,
 "nbformat_minor": 2
}
